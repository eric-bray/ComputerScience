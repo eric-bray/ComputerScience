{
 "cells": [
  {
   "cell_type": "markdown",
   "metadata": {},
   "source": [
    "## Lecture 3: Formalizing the problem\n",
    "\n",
    "### by Long Nguyen\n",
    "\n",
    "This homework notebook is supplemental to [Lecture 3](https://youtu.be/10NSz_zLEl4) of the series \"Image Recognition with Neural Networks\".\n",
    "\n",
    "Many of these functions are implemented in the [video](https://youtu.be/10NSz_zLEl4)."
   ]
  },
  {
   "cell_type": "code",
   "execution_count": 1,
   "metadata": {
    "collapsed": true
   },
   "outputs": [],
   "source": [
    "from mnist_loader import load_data_wrapper\n",
    "import numpy as np"
   ]
  },
  {
   "cell_type": "code",
   "execution_count": 2,
   "metadata": {
    "collapsed": true
   },
   "outputs": [],
   "source": [
    "training_data, validation_data, test_data = load_data_wrapper()"
   ]
  },
  {
   "cell_type": "code",
   "execution_count": 10,
   "metadata": {
    "collapsed": true
   },
   "outputs": [],
   "source": [
    "with open(\"parameters.npy\", mode=\"rb\") as r:\n",
    "    parameters = np.load(r)\n",
    "    W1, B1, W2, B2 = parameters"
   ]
  },
  {
   "cell_type": "markdown",
   "metadata": {},
   "source": [
    "### Vectorization"
   ]
  },
  {
   "cell_type": "markdown",
   "metadata": {},
   "source": [
    "In the lecture, we discussed vectorization. Suppose we have $m$ images:\n",
    "\n",
    "$$\\{(x^{(1)},y^{(1)}),(x^{(1)},y^{(1)}),\\ldots,(x^{(m)},y^{(m)})\\}$$\n",
    "\n",
    "where $x^{(i)}\\in\\mathbb{R}^{784}$ are the images and $y^{(i)}\\in\\mathbb{R}^{10}$ are their one-hot encoding labels. \n",
    "\n",
    "We form $X$ by stacking horizontally the vectors $x^{(i)}$ and form $Y$ by stacking horizontally the vectors $y^{(i)}$.\n",
    "\n",
    "If `X` is a list of $n$ `(m,1)` 2D numpy arrays, then the function `np.hstack(X)` will produce a `(m,n)` numpy array. \n"
   ]
  },
  {
   "cell_type": "code",
   "execution_count": 3,
   "metadata": {
    "collapsed": true
   },
   "outputs": [],
   "source": [
    "import numpy as np"
   ]
  },
  {
   "cell_type": "code",
   "execution_count": 4,
   "metadata": {
    "scrolled": true
   },
   "outputs": [
    {
     "name": "stdout",
     "output_type": "stream",
     "text": [
      "[[1]\n",
      " [2]\n",
      " [3]]\n",
      "(3, 1)\n"
     ]
    }
   ],
   "source": [
    "x1 = np.array([[1],[2],[3]])\n",
    "x2 = np.array([[4],[5],[6]])\n",
    "print(x1)\n",
    "print(x1.shape)"
   ]
  },
  {
   "cell_type": "code",
   "execution_count": 5,
   "metadata": {},
   "outputs": [
    {
     "name": "stdout",
     "output_type": "stream",
     "text": [
      "[[1 4]\n",
      " [2 5]\n",
      " [3 6]]\n"
     ]
    }
   ],
   "source": [
    "X = [x1,x2] # a list of 2 numpy arrays\n",
    "print(np.hstack(X))"
   ]
  },
  {
   "cell_type": "markdown",
   "metadata": {},
   "source": [
    "#### Write the function `vectorize_mini_batch` below which accepts a minibatch of `(image,label)` tuples of a certain `size` and calls `np.hstack` to return a tuple `X,Y` where `X` contains all of the images and `Y` contains all of the labels stacked horizontally. \n",
    "\n",
    "#### For example `X,Y = vectorize_mini_batch(training_data[0:20],20)` should return `X` of shape `(784,20)` and `Y` of shape `(10,20)`. \n",
    "\n",
    "Hint: You can create two empty lists and use the function append() to insert the images and labels. Or you can use list comprehensions. "
   ]
  },
  {
   "cell_type": "code",
   "execution_count": 1,
   "metadata": {},
   "outputs": [],
   "source": [
    "def vectorize_mini_batch(mini_batch):\n",
    "    \"\"\"Given a minibatch of (image,lable) tuples \n",
    "    return the tuple X,Y where X contains all of the images and Y contains\n",
    "    all of the labels stacked horizontally \"\"\"\n",
    "    mini_batch_x = [mini_batch[k][0] for k in range(0,len(mini_batch))]\n",
    "    mini_batch_y = [mini_batch[k][1] for k in range(0,len(mini_batch))]\n",
    "    X = np.hstack(mini_batch_x)\n",
    "    Y = np.hstack(mini_batch_y)\n",
    "    return X, Y"
   ]
  },
  {
   "cell_type": "code",
   "execution_count": 7,
   "metadata": {
    "collapsed": true
   },
   "outputs": [],
   "source": [
    "X,Y = vectorize_mini_batch(training_data[0:20])"
   ]
  },
  {
   "cell_type": "code",
   "execution_count": 12,
   "metadata": {
    "collapsed": true
   },
   "outputs": [],
   "source": [
    "def sigmoid(x):\n",
    "    return 1/(1+np.exp(-x))"
   ]
  },
  {
   "cell_type": "markdown",
   "metadata": {},
   "source": [
    "#### Write the vectorized version of the score function or model f below. Here, `X` is the matrix of images stacked horizontally. \n",
    "\n",
    "#### Thus if, \n",
    "$$X=\\left[ \\begin{array}{rrr}\n",
    "x^{(1)} & x^{(2)} & \\ldots & x^{(m)} \n",
    "\\end{array} \\right]$$\n",
    "#### is an (784,m) array then \n",
    "$$f(X)=\\left[ \\begin{array}{rrr}\n",
    "f(x^{(1)}) & f(x^{(2)}) & \\ldots & f(x^{(m)}) \n",
    "\\end{array} \\right]$$\n",
    "#### is an (10,m) array."
   ]
  },
  {
   "cell_type": "code",
   "execution_count": 8,
   "metadata": {
    "collapsed": true
   },
   "outputs": [],
   "source": [
    "def f(X, W1, W2, B1, B2):\n",
    "    \"\"\"Vectorized version. \n",
    "    Return the output of the network if ``X`` is the input consists\n",
    "    of a collection of images. \"\"\"\n",
    "    Z1 =\n",
    "    A1 = \n",
    "    Z2 = \n",
    "    A2 =\n",
    "    return A2"
   ]
  },
  {
   "cell_type": "markdown",
   "metadata": {},
   "source": [
    "#### Write the vectorized version of the predict function. "
   ]
  },
  {
   "cell_type": "code",
   "execution_count": null,
   "metadata": {
    "collapsed": true
   },
   "outputs": [],
   "source": [
    "def predict(images, W1, W2, B1, B2):\n",
    "    \"\"\"Vectorized version. \n",
    "    The parameter images is a list of (image, label) tuples. \n",
    "    Call vectorize_mini_batch and the vectorized version of the model f\n",
    "    to predict the labels of the images. \n",
    "    Hint: Use np.argmax using an axis. \n",
    "    \"\"\"\n",
    "    \n",
    "    \n",
    "    return predictions"
   ]
  },
  {
   "cell_type": "markdown",
   "metadata": {},
   "source": [
    "#### Use the predict function above to predict the first `20` images from the training set. "
   ]
  },
  {
   "cell_type": "code",
   "execution_count": null,
   "metadata": {
    "collapsed": true
   },
   "outputs": [],
   "source": []
  }
 ],
 "metadata": {
  "kernelspec": {
   "display_name": "Python [default]",
   "language": "python",
   "name": "python3"
  },
  "language_info": {
   "codemirror_mode": {
    "name": "ipython",
    "version": 3
   },
   "file_extension": ".py",
   "mimetype": "text/x-python",
   "name": "python",
   "nbconvert_exporter": "python",
   "pygments_lexer": "ipython3",
   "version": "3.6.4"
  }
 },
 "nbformat": 4,
 "nbformat_minor": 2
}
